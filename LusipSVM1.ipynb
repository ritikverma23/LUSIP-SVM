{
  "nbformat": 4,
  "nbformat_minor": 0,
  "metadata": {
    "colab": {
      "name": "LusipSVM1.ipynb",
      "provenance": []
    },
    "kernelspec": {
      "name": "python3",
      "display_name": "Python 3"
    },
    "language_info": {
      "name": "python"
    }
  },
  "cells": [
    {
      "cell_type": "code",
      "metadata": {
        "id": "9XZWTNVg_Ruo"
      },
      "source": [
        "import numpy as np\n",
        "import pandas as pd\n",
        "import matplotlib.pyplot as plt\n",
        "from sklearn import svm\n",
        "import datetime as dt\n",
        "import pandas_datareader.data as web\n",
        "from sklearn.preprocessing import StandardScaler\n",
        "from sklearn.model_selection import train_test_split\n",
        "from collections import Counter\n",
        "import seaborn as sns\n",
        "from sklearn.preprocessing import MinMaxScaler\n",
        "import xgboost\n",
        "from sklearn.tree import export_graphviz\n",
        "import pydot\n",
        "from sklearn.ensemble import RandomForestRegressor"
      ],
      "execution_count": null,
      "outputs": []
    },
    {
      "cell_type": "markdown",
      "metadata": {
        "id": "-EklJmIqQs83"
      },
      "source": [
        ""
      ]
    },
    {
      "cell_type": "code",
      "metadata": {
        "id": "_4IL-wfHA9w0"
      },
      "source": [
        "def get_data(lusip):\n",
        "    start = dt.datetime(2018, 1, 1)\n",
        "    end = dt.datetime.now()\n",
        "    df = web.DataReader(lusip,'yahoo', start, end)\n",
        "    df.to_csv(lusip+'.csv')"
      ],
      "execution_count": null,
      "outputs": []
    },
    {
      "cell_type": "code",
      "metadata": {
        "id": "KBRNTsTQNjUW"
      },
      "source": [
        "get_data('RELIANCE.NS')"
      ],
      "execution_count": null,
      "outputs": []
    },
    {
      "cell_type": "code",
      "metadata": {
        "colab": {
          "base_uri": "https://localhost:8080/"
        },
        "id": "OvHfHvaiNnuk",
        "outputId": "840999e8-323b-4670-82fa-b57e9432176d"
      },
      "source": [
        "\n",
        "pd.read_csv('RELIANCE.NS.csv').shape"
      ],
      "execution_count": null,
      "outputs": [
        {
          "output_type": "execute_result",
          "data": {
            "text/plain": [
              "(853, 7)"
            ]
          },
          "metadata": {
            "tags": []
          },
          "execution_count": 351
        }
      ]
    },
    {
      "cell_type": "code",
      "metadata": {
        "id": "i-Xb2D0aNq9L"
      },
      "source": [
        "def data_preprocessing(ticker):\n",
        "    training_data = pd.read_csv('{}.csv'.format(ticker))\n",
        "    training_data = training_data.dropna()\n",
        "    training_data = training_data[['Open', 'High', 'Low', 'Date', 'Volume', 'Adj Close','Close']]\n",
        "\n",
        "    training_data['H-L'] = training_data['High'] - training_data['Low']\n",
        "    training_data['O-C'] = training_data['Close'] - training_data['Open']\n",
        "    \n",
        "    training_data['ma_5'] = training_data['Close'].rolling(window=5).mean()\n",
        "    training_data['ma_10'] = training_data['Close'].rolling(window=10).mean() \n",
        "    \n",
        "    training_data['EWMA_12'] = training_data['Close'].ewm(span=12).mean() #Providing exponential weighted (EW) functions #Specify decay\n",
        "\n",
        "    training_data['std_5'] = training_data['Close'].rolling(window=5).std()\n",
        "    training_data['std_10'] = training_data['Close'].rolling(window=10).std()\n",
        "\n",
        "\n",
        "    training_data[[\"year\",\"month\", \"day\",]] = training_data[\"Date\"].str.split(\"-\", expand = True)\n",
        "    training_data = training_data.drop(['Date'], axis = 1)\n",
        "    training_data.day = training_data.day.astype('int64')\n",
        "    training_data.month = training_data.month.astype('int64')\n",
        "    training_data.year = training_data.year.astype('int64')\n",
        "\n",
        "    training_data['Price_Rise'] = np.where(training_data['Close'].shift(-1) > training_data['Close'], 1, 0)\n",
        "    training_data.columns\n",
        "    training_data = training_data.dropna()\n",
        "    y = training_data['Price_Rise']\n",
        "    training_data = training_data.drop(['Price_Rise'], axis = 1)\n",
        "    X = training_data\n",
        "    split = int(len(training_data)*0.8)\n",
        "    X_train, X_test, y_train, y_test = X[:split], X[split:], y[:split], y[split:]\n",
        "\n",
        "\n",
        "    sc = StandardScaler()\n",
        "    X_train = sc.fit_transform(X_train)\n",
        "    X_test = sc.transform(X_test)\n",
        "    \n",
        "    return X_train, X_test, y_train, y_test\n"
      ],
      "execution_count": null,
      "outputs": []
    },
    {
      "cell_type": "code",
      "metadata": {
        "colab": {
          "base_uri": "https://localhost:8080/"
        },
        "id": "CmQmm_vqZd5X",
        "outputId": "8764f49a-3fef-4604-92fa-ec2aef39f630"
      },
      "source": [
        "data_preprocessing('RELIANCE.NS')"
      ],
      "execution_count": null,
      "outputs": [
        {
          "output_type": "execute_result",
          "data": {
            "text/plain": [
              "(array([[-1.12330789, -1.12951557, -1.1021744 , ..., -1.17610457,\n",
              "         -1.58272505, -0.44222137],\n",
              "        [-1.10298068, -1.11317224, -1.08169631, ..., -1.17610457,\n",
              "         -1.58272505, -0.09924999],\n",
              "        [-1.10965974, -1.14413856, -1.15594752, ..., -1.17610457,\n",
              "         -1.58272505,  0.0150738 ],\n",
              "        ...,\n",
              "        [ 2.69003727,  2.65971263,  2.72784936, ...,  1.32821904,\n",
              "          1.15973207, -0.78519276],\n",
              "        [ 2.69003727,  2.6676723 ,  2.75506488, ...,  1.32821904,\n",
              "          1.15973207, -0.44222137],\n",
              "        [ 2.67713933,  2.75450507,  2.75387541, ...,  1.32821904,\n",
              "          1.15973207, -0.32789758]]),\n",
              " array([[ 2.8187261 ,  2.80732834,  2.88073351, ...,  1.32821904,\n",
              "          1.15973207, -0.21357378],\n",
              "        [ 2.8512651 ,  2.76680638,  2.66211471, ...,  1.32821904,\n",
              "          1.15973207, -0.09924999],\n",
              "        [ 2.63140897,  2.6003769 ,  2.59563646, ...,  1.32821904,\n",
              "          1.15973207,  0.0150738 ],\n",
              "        ...,\n",
              "        [ 2.58743774,  2.60761296,  2.6172009 , ...,  2.58038084,\n",
              "         -0.05913776,  0.1293976 ],\n",
              "        [ 2.66218883,  2.60761296,  2.63043758, ...,  2.58038084,\n",
              "         -0.05913776,  0.24372139],\n",
              "        [ 2.59769769,  2.64379329,  2.67743261, ...,  2.58038084,\n",
              "         -0.05913776,  0.58669278]]),\n",
              " 9      1\n",
              " 10     0\n",
              " 11     1\n",
              " 12     0\n",
              " 13     1\n",
              "       ..\n",
              " 679    0\n",
              " 680    0\n",
              " 681    1\n",
              " 682    1\n",
              " 683    1\n",
              " Name: Price_Rise, Length: 675, dtype: int64,\n",
              " 684    0\n",
              " 685    0\n",
              " 686    1\n",
              " 687    0\n",
              " 688    0\n",
              "       ..\n",
              " 848    0\n",
              " 849    1\n",
              " 850    1\n",
              " 851    1\n",
              " 852    0\n",
              " Name: Price_Rise, Length: 169, dtype: int64)"
            ]
          },
          "metadata": {
            "tags": []
          },
          "execution_count": 353
        }
      ]
    },
    {
      "cell_type": "code",
      "metadata": {
        "id": "shRBWzWsTuV8"
      },
      "source": [
        ""
      ],
      "execution_count": null,
      "outputs": []
    },
    {
      "cell_type": "code",
      "metadata": {
        "colab": {
          "base_uri": "https://localhost:8080/",
          "height": 329
        },
        "id": "R6yttAi7Zhro",
        "outputId": "bc1cf6b6-8420-4cd2-be62-a3fc593aab68"
      },
      "source": [
        "\n",
        "def svm_linear(ticker):\n",
        "  X_train, X_test, y_train, y_test = data_preprocessing(ticker)\n",
        "  clf = svm.SVC(kernel = 'linear')\n",
        "  clf.fit(X_train, y_train)\n",
        "  confidence = clf.score(X_test, y_test)\n",
        "  print('accuracy:',confidence)\n",
        "  predictions = clf.predict(X_test)\n",
        "  print('predicted class counts:',Counter(predictions))\n",
        "\n",
        "\n",
        "  plt.plot(X_test[:,1], y_test, color = 'magenta')\n",
        "  plt.plot(X_test[:,1], predictions, color = 'green')\n",
        "  plt.title('SVM MODEL - LUSIP')\n",
        "  plt.xlabel('X')\n",
        "  plt.ylabel('Y')\n",
        "  plt.show()\n",
        "\n",
        "svm_linear('RELIANCE.NS')\n"
      ],
      "execution_count": null,
      "outputs": [
        {
          "output_type": "stream",
          "text": [
            "accuracy: 0.4911242603550296\n",
            "predicted class counts: Counter({0: 113, 1: 56})\n"
          ],
          "name": "stdout"
        },
        {
          "output_type": "display_data",
          "data": {
            "image/png": "[encoded data removed]",
            "text/plain": [
              "<Figure size 432x288 with 1 Axes>"
            ]
          },
          "metadata": {
            "tags": [],
            "needs_background": "light"
          }
        }
      ]
    },
    {
      "cell_type": "code",
      "metadata": {
        "colab": {
          "base_uri": "https://localhost:8080/"
        },
        "id": "H7uGIS4GZx_e",
        "outputId": "4e52965b-7c45-4290-d6cd-7941602e6bb5"
      },
      "source": [
        "def svm_poly(ticker):\n",
        "    X_train, X_test, y_train, y_test = data_preprocessing(ticker)\n",
        "    clf = svm.SVC(kernel = 'poly')\n",
        "    clf.fit(X_train, y_train)\n",
        "    confidence = clf.score(X_test, y_test)\n",
        "    print('accuracy:',confidence)\n",
        "    predictions = clf.predict(X_test)\n",
        "    print('predicted class counts:',Counter(predictions))\n",
        "    \n",
        "svm_poly('RELIANCE.NS')"
      ],
      "execution_count": null,
      "outputs": [
        {
          "output_type": "stream",
          "text": [
            "accuracy: 0.46745562130177515\n",
            "predicted class counts: Counter({0: 87, 1: 82})\n"
          ],
          "name": "stdout"
        }
      ]
    },
    {
      "cell_type": "code",
      "metadata": {
        "id": "iZaDszclT9lR"
      },
      "source": [
        "from sklearn.model_selection import train_test_split\n",
        "def data_preprocessing_RF(ticker):\n",
        "    training_data = pd.read_csv('{}.csv'.format(ticker))\n",
        "    training_data = training_data.dropna()\n",
        "    training_data = training_data[['Open', 'High', 'Low', 'Date', 'Volume', 'Adj Close','Close']]\n",
        "\n",
        "    #training_data['H-L'] = training_data['High'] - training_data['Low']\n",
        "    #training_data['O-C'] = training_data['Close'] - training_data['Open']\n",
        "    \n",
        "    #training_data['ma_5'] = training_data['Close'].rolling(window=5).mean()\n",
        "    #training_data['ma_10'] = training_data['Close'].rolling(window=10).mean() \n",
        "    \n",
        "    #training_data['EWMA_12'] = training_data['Close'].ewm(span=12).mean() #Providing exponential weighted (EW) functions #Specify decay\n",
        "\n",
        "    #training_data['std_5'] = training_data['Close'].rolling(window=5).std()\n",
        "    #training_data['std_10'] = training_data['Close'].rolling(window=10).std()\n",
        "\n",
        "\n",
        "    training_data[[\"year\",\"month\", \"day\",]] = training_data[\"Date\"].str.split(\"-\", expand = True)\n",
        "    training_data = training_data.drop(['Date'], axis = 1)\n",
        "    training_data.day = training_data.day.astype('int64')\n",
        "    training_data.month = training_data.month.astype('int64')\n",
        "    training_data.year = training_data.year.astype('int64')\n",
        "\n",
        "    #training_data['Price_Rise'] = np.where(training_data['Close'].shift(-1) > training_data['Close'], 1, 0)\n",
        "    training_data = training_data.dropna()\n",
        "    target = training_data['Close']\n",
        "    training_data = training_data.drop(['Close'], axis = 1)\n",
        "    X = training_data\n",
        "    feature_list = list(training_data.columns) \n",
        "    X = np.array(X)\n",
        "    y = np.array(target)\n",
        "    X_train, X_test, y_train, y_test = train_test_split(X, y, test_size = 0.25, random_state = 42)\n",
        "\n",
        "\n",
        "    return training_data,target, X_train, X_test, y_train, y_test, feature_list\n"
      ],
      "execution_count": null,
      "outputs": []
    },
    {
      "cell_type": "code",
      "metadata": {
        "id": "xcYY8Z4EwiL9",
        "colab": {
          "base_uri": "https://localhost:8080/",
          "height": 295
        },
        "outputId": "5d78a99b-17e8-4b5a-988a-8ea6cfa1b4ca"
      },
      "source": [
        "features, labels, train_features, test_features, train_labels, test_labels,feature_list = data_preprocessing_RF('RELIANCE.NS')\n",
        "features.describe()"
      ],
      "execution_count": null,
      "outputs": [
        {
          "output_type": "execute_result",
          "data": {
            "text/html": [
              "<div>\n",
              "<style scoped>\n",
              "    .dataframe tbody tr th:only-of-type {\n",
              "        vertical-align: middle;\n",
              "    }\n",
              "\n",
              "    .dataframe tbody tr th {\n",
              "        vertical-align: top;\n",
              "    }\n",
              "\n",
              "    .dataframe thead th {\n",
              "        text-align: right;\n",
              "    }\n",
              "</style>\n",
              "<table border=\"1\" class=\"dataframe\">\n",
              "  <thead>\n",
              "    <tr style=\"text-align: right;\">\n",
              "      <th></th>\n",
              "      <th>Open</th>\n",
              "      <th>High</th>\n",
              "      <th>Low</th>\n",
              "      <th>Volume</th>\n",
              "      <th>Adj Close</th>\n",
              "      <th>year</th>\n",
              "      <th>month</th>\n",
              "      <th>day</th>\n",
              "    </tr>\n",
              "  </thead>\n",
              "  <tbody>\n",
              "    <tr>\n",
              "      <th>count</th>\n",
              "      <td>853.000000</td>\n",
              "      <td>853.000000</td>\n",
              "      <td>853.000000</td>\n",
              "      <td>8.530000e+02</td>\n",
              "      <td>853.000000</td>\n",
              "      <td>853.000000</td>\n",
              "      <td>853.000000</td>\n",
              "      <td>853.000000</td>\n",
              "    </tr>\n",
              "    <tr>\n",
              "      <th>mean</th>\n",
              "      <td>1453.605930</td>\n",
              "      <td>1471.396612</td>\n",
              "      <td>1434.319976</td>\n",
              "      <td>1.151725e+07</td>\n",
              "      <td>1440.667326</td>\n",
              "      <td>2019.274326</td>\n",
              "      <td>6.075029</td>\n",
              "      <td>15.669402</td>\n",
              "    </tr>\n",
              "    <tr>\n",
              "      <th>std</th>\n",
              "      <td>420.618074</td>\n",
              "      <td>425.248589</td>\n",
              "      <td>414.402677</td>\n",
              "      <td>8.047628e+06</td>\n",
              "      <td>422.547202</td>\n",
              "      <td>1.023095</td>\n",
              "      <td>3.442212</td>\n",
              "      <td>8.752382</td>\n",
              "    </tr>\n",
              "    <tr>\n",
              "      <th>min</th>\n",
              "      <td>868.764954</td>\n",
              "      <td>887.437988</td>\n",
              "      <td>862.821289</td>\n",
              "      <td>1.296168e+06</td>\n",
              "      <td>858.272034</td>\n",
              "      <td>2018.000000</td>\n",
              "      <td>1.000000</td>\n",
              "      <td>1.000000</td>\n",
              "    </tr>\n",
              "    <tr>\n",
              "      <th>25%</th>\n",
              "      <td>1115.922119</td>\n",
              "      <td>1128.304810</td>\n",
              "      <td>1099.676147</td>\n",
              "      <td>6.560005e+06</td>\n",
              "      <td>1103.987549</td>\n",
              "      <td>2018.000000</td>\n",
              "      <td>3.000000</td>\n",
              "      <td>8.000000</td>\n",
              "    </tr>\n",
              "    <tr>\n",
              "      <th>50%</th>\n",
              "      <td>1324.445557</td>\n",
              "      <td>1341.087769</td>\n",
              "      <td>1308.595825</td>\n",
              "      <td>9.102492e+06</td>\n",
              "      <td>1304.983643</td>\n",
              "      <td>2019.000000</td>\n",
              "      <td>6.000000</td>\n",
              "      <td>16.000000</td>\n",
              "    </tr>\n",
              "    <tr>\n",
              "      <th>75%</th>\n",
              "      <td>1924.000000</td>\n",
              "      <td>1940.599976</td>\n",
              "      <td>1899.900024</td>\n",
              "      <td>1.376484e+07</td>\n",
              "      <td>1910.852905</td>\n",
              "      <td>2020.000000</td>\n",
              "      <td>9.000000</td>\n",
              "      <td>23.000000</td>\n",
              "    </tr>\n",
              "    <tr>\n",
              "      <th>max</th>\n",
              "      <td>2325.000000</td>\n",
              "      <td>2369.350098</td>\n",
              "      <td>2310.550049</td>\n",
              "      <td>6.584835e+07</td>\n",
              "      <td>2317.096191</td>\n",
              "      <td>2021.000000</td>\n",
              "      <td>12.000000</td>\n",
              "      <td>31.000000</td>\n",
              "    </tr>\n",
              "  </tbody>\n",
              "</table>\n",
              "</div>"
            ],
            "text/plain": [
              "              Open         High  ...       month         day\n",
              "count   853.000000   853.000000  ...  853.000000  853.000000\n",
              "mean   1453.605930  1471.396612  ...    6.075029   15.669402\n",
              "std     420.618074   425.248589  ...    3.442212    8.752382\n",
              "min     868.764954   887.437988  ...    1.000000    1.000000\n",
              "25%    1115.922119  1128.304810  ...    3.000000    8.000000\n",
              "50%    1324.445557  1341.087769  ...    6.000000   16.000000\n",
              "75%    1924.000000  1940.599976  ...    9.000000   23.000000\n",
              "max    2325.000000  2369.350098  ...   12.000000   31.000000\n",
              "\n",
              "[8 rows x 8 columns]"
            ]
          },
          "metadata": {
            "tags": []
          },
          "execution_count": 357
        }
      ]
    },
    {
      "cell_type": "markdown",
      "metadata": {
        "id": "-DHqZLq3SmpQ"
      },
      "source": [
        ""
      ]
    },
    {
      "cell_type": "code",
      "metadata": {
        "id": "mIbisivfxD9O"
      },
      "source": [
        ""
      ],
      "execution_count": null,
      "outputs": []
    },
    {
      "cell_type": "code",
      "metadata": {
        "id": "FiGa_pOTQXjy"
      },
      "source": [
        "rf = RandomForestRegressor(n_estimators = 1000, random_state = 42)\n",
        "rf.fit(train_features, train_labels);"
      ],
      "execution_count": null,
      "outputs": []
    },
    {
      "cell_type": "code",
      "metadata": {
        "colab": {
          "base_uri": "https://localhost:8080/"
        },
        "id": "gBXH5uOkQyXt",
        "outputId": "ab088b43-0114-48f1-d2f9-5ffc15549a7b"
      },
      "source": [
        "predictions = rf.predict(test_features)\n",
        "errors = abs(predictions - test_labels)\n",
        "print('Mean Absolute Error:', round(np.mean(errors), 2), 'degrees.')"
      ],
      "execution_count": null,
      "outputs": [
        {
          "output_type": "stream",
          "text": [
            "Mean Absolute Error: 2.96 degrees.\n"
          ],
          "name": "stdout"
        }
      ]
    },
    {
      "cell_type": "code",
      "metadata": {
        "colab": {
          "base_uri": "https://localhost:8080/"
        },
        "id": "VkD7cGYVQ7SX",
        "outputId": "fa3f474a-2d10-4cfd-fa03-69f746677645"
      },
      "source": [
        "mape = 100 * (errors / test_labels)\n",
        "accuracy = 100 - np.mean(mape)\n",
        "print('Accuracy:', round(accuracy, 2), '%.')"
      ],
      "execution_count": null,
      "outputs": [
        {
          "output_type": "stream",
          "text": [
            "Accuracy: 99.78 %.\n"
          ],
          "name": "stdout"
        }
      ]
    },
    {
      "cell_type": "code",
      "metadata": {
        "colab": {
          "base_uri": "https://localhost:8080/"
        },
        "id": "hdPik8mnRp3w",
        "outputId": "f40cf011-329c-488d-bccb-fe4fbb623e77"
      },
      "source": [
        "importances = list(rf.feature_importances_)\n",
        "feature_importances = [(feature, round(importance, 2)) for feature, importance in zip(feature_list, importances)]\n",
        "feature_importances = sorted(feature_importances, key = lambda x: x[1], reverse = True)\n",
        "[print('Variable: {:20} Importance: {}'.format(*pair)) for pair in feature_importances];"
      ],
      "execution_count": null,
      "outputs": [
        {
          "output_type": "stream",
          "text": [
            "Variable: Adj Close            Importance: 0.47\n",
            "Variable: High                 Importance: 0.31\n",
            "Variable: Low                  Importance: 0.17\n",
            "Variable: Open                 Importance: 0.05\n",
            "Variable: Volume               Importance: 0.0\n",
            "Variable: year                 Importance: 0.0\n",
            "Variable: month                Importance: 0.0\n",
            "Variable: day                  Importance: 0.0\n"
          ],
          "name": "stdout"
        }
      ]
    },
    {
      "cell_type": "code",
      "metadata": {
        "colab": {
          "base_uri": "https://localhost:8080/"
        },
        "id": "nW4gtdgKSFoI",
        "outputId": "95e83f6b-c476-4497-ca6c-f098a0b6a7eb"
      },
      "source": [
        "rf_most_important = RandomForestRegressor(n_estimators= 1000, random_state=42)\n",
        "important_indices = [feature_list.index('High'), feature_list.index('Adj Close'), feature_list.index('Low')]\n",
        "train_important = train_features[:, important_indices]\n",
        "test_important = test_features[:, important_indices]\n",
        "# Train the random forest\n",
        "rf_most_important.fit(train_important, train_labels)\n",
        "# Make predictions and determine the error\n",
        "predictions = rf_most_important.predict(test_important)\n",
        "errors = abs(predictions - test_labels)\n",
        "# Display the performance metrics\n",
        "print('Mean Absolute Error:', round(np.mean(errors), 2), 'degrees.')\n",
        "mape = np.mean(100 * (errors / test_labels))\n",
        "accuracy = 100 - mape\n",
        "print('Accuracy:', round(accuracy, 2), '%.')"
      ],
      "execution_count": null,
      "outputs": [
        {
          "output_type": "stream",
          "text": [
            "Mean Absolute Error: 2.67 degrees.\n",
            "Accuracy: 99.8 %.\n"
          ],
          "name": "stdout"
        }
      ]
    },
    {
      "cell_type": "code",
      "metadata": {
        "colab": {
          "base_uri": "https://localhost:8080/",
          "height": 326
        },
        "id": "ERNcBL1mTD5R",
        "outputId": "842df261-cf1f-4155-8356-107dfa90c9ee"
      },
      "source": [
        "# Use datetime for creating date objects for plotting\n",
        "import datetime\n",
        "# Dates of predictions\n",
        "months = features['month']\n",
        "days = features['day']\n",
        "years = features['year']\n",
        "dates = [str(int(year)) + '-' + str(int(month)) + '-' + str(int(day)) for year, month, day in zip(years, months, days)]\n",
        "dates = [datetime.datetime.strptime(date, '%Y-%m-%d') for date in dates]\n",
        "\n",
        "months = test_features[:, feature_list.index('month')]\n",
        "days = test_features[:, feature_list.index('day')]\n",
        "years = test_features[:, feature_list.index('year')]\n",
        "# Column of dates\n",
        "test_dates = [str(int(year)) + '-' + str(int(month)) + '-' + str(int(day)) for year, month, day in zip(years, months, days)]\n",
        "test_dates = [datetime.datetime.strptime(date, '%Y-%m-%d') for date in test_dates]\n",
        "# Dataframe with predictions and dates\n",
        "predictions_data = pd.DataFrame(data = {'date': test_dates, 'prediction': predictions})\n",
        "true_data = pd.DataFrame(data = {'date': dates, 'actual': labels})\n",
        "# Plot the actual values\n",
        "plt.plot(true_data['date'], true_data['actual'], 'b-', label = 'actual')\n",
        "# Plot the predicted values\n",
        "plt.plot(predictions_data['date'], predictions_data['prediction'], 'ro', label = 'prediction')\n",
        "plt.xticks(rotation = '60'); \n",
        "plt.legend()\n",
        "# Graph labels\n",
        "plt.xlabel('Date'); plt.ylabel('CLOSE '); plt.title('Actual and Predicted Values');"
      ],
      "execution_count": null,
      "outputs": [
        {
          "output_type": "display_data",
          "data": {
            "image/png": "[encoded data removed]",
            "text/plain": [
              "<Figure size 432x288 with 1 Axes>"
            ]
          },
          "metadata": {
            "tags": [],
            "needs_background": "light"
          }
        }
      ]
    }
  ]
}