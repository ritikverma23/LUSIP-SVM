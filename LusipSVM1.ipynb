{
  "nbformat": 4,
  "nbformat_minor": 0,
  "metadata": {
    "colab": {
      "name": "LusipSVM1.ipynb",
      "provenance": []
    },
    "kernelspec": {
      "name": "python3",
      "display_name": "Python 3"
    },
    "language_info": {
      "name": "python"
    }
  },
  "cells": [
    {
      "cell_type": "code",
      "metadata": {
        "id": "9XZWTNVg_Ruo"
      },
      "source": [
        "import numpy as np\n",
        "import pandas as pd\n",
        "import matplotlib.pyplot as plt\n",
        "from sklearn import svm\n",
        "import datetime as dt\n",
        "import pandas_datareader.data as web\n",
        "from sklearn.preprocessing import StandardScaler\n",
        "from sklearn.model_selection import train_test_split\n",
        "from collections import Counter\n",
        "import seaborn as sns\n",
        "from sklearn.preprocessing import MinMaxScaler\n",
        "import xgboost\n",
        "from sklearn.tree import export_graphviz\n",
        "import pydot\n",
        "from sklearn.ensemble import RandomForestRegressor"
      ],
      "execution_count": 23,
      "outputs": []
    },
    {
      "cell_type": "markdown",
      "metadata": {
        "id": "-EklJmIqQs83"
      },
      "source": [
        ""
      ]
    },
    {
      "cell_type": "code",
      "metadata": {
        "id": "_4IL-wfHA9w0"
      },
      "source": [
        "def get_data(lusip):\n",
        "    start = dt.datetime(2018, 1, 1)\n",
        "    end = dt.datetime.now()\n",
        "    df = web.DataReader(lusip,'yahoo', start, end)\n",
        "    df.to_csv(lusip+'.csv')"
      ],
      "execution_count": 24,
      "outputs": []
    },
    {
      "cell_type": "code",
      "metadata": {
        "id": "KBRNTsTQNjUW"
      },
      "source": [
        "get_data('RELIANCE.NS')"
      ],
      "execution_count": 25,
      "outputs": []
    },
    {
      "cell_type": "code",
      "metadata": {
        "colab": {
          "base_uri": "https://localhost:8080/"
        },
        "id": "OvHfHvaiNnuk",
        "outputId": "5a29fbce-5571-46a9-c1f1-a514b17f9df0"
      },
      "source": [
        "\n",
        "pd.read_csv('RELIANCE.NS.csv').shape"
      ],
      "execution_count": 26,
      "outputs": [
        {
          "output_type": "execute_result",
          "data": {
            "text/plain": [
              "(854, 7)"
            ]
          },
          "metadata": {
            "tags": []
          },
          "execution_count": 26
        }
      ]
    },
    {
      "cell_type": "code",
      "metadata": {
        "id": "i-Xb2D0aNq9L"
      },
      "source": [
        "def data_preprocessing(ticker):\n",
        "    training_data = pd.read_csv('{}.csv'.format(ticker))\n",
        "    training_data = training_data.dropna()\n",
        "    training_data = training_data[['Open', 'High', 'Low', 'Date', 'Volume', 'Adj Close','Close']]\n",
        "\n",
        "    training_data['H-L'] = training_data['High'] - training_data['Low']\n",
        "    training_data['O-C'] = training_data['Close'] - training_data['Open']\n",
        "    \n",
        "    training_data['ma_5'] = training_data['Close'].rolling(window=5).mean()\n",
        "    training_data['ma_10'] = training_data['Close'].rolling(window=10).mean() \n",
        "    \n",
        "    training_data['EWMA_12'] = training_data['Close'].ewm(span=12).mean() #Providing exponential weighted (EW) functions #Specify decay\n",
        "\n",
        "    training_data['std_5'] = training_data['Close'].rolling(window=5).std()\n",
        "    training_data['std_10'] = training_data['Close'].rolling(window=10).std()\n",
        "\n",
        "\n",
        "    training_data[[\"year\",\"month\", \"day\",]] = training_data[\"Date\"].str.split(\"-\", expand = True)\n",
        "    training_data = training_data.drop(['Date'], axis = 1)\n",
        "    training_data.day = training_data.day.astype('int64')\n",
        "    training_data.month = training_data.month.astype('int64')\n",
        "    training_data.year = training_data.year.astype('int64')\n",
        "\n",
        "    training_data['Price_Rise'] = np.where(training_data['Close'].shift(-1) > training_data['Close'], 1, 0)\n",
        "    training_data.columns\n",
        "    training_data = training_data.dropna()\n",
        "    y = training_data['Price_Rise']\n",
        "    training_data = training_data.drop(['Price_Rise'], axis = 1)\n",
        "    X = training_data\n",
        "    split = int(len(training_data)*0.8)\n",
        "    X_train, X_test, y_train, y_test = X[:split], X[split:], y[:split], y[split:]\n",
        "\n",
        "\n",
        "    sc = StandardScaler()\n",
        "    X_train = sc.fit_transform(X_train)\n",
        "    X_test = sc.transform(X_test)\n",
        "    \n",
        "    return X_train, X_test, y_train, y_test\n"
      ],
      "execution_count": 27,
      "outputs": []
    },
    {
      "cell_type": "code",
      "metadata": {
        "colab": {
          "base_uri": "https://localhost:8080/"
        },
        "id": "CmQmm_vqZd5X",
        "outputId": "db93e4df-4cd8-4115-8f86-1a60cc53d6a1"
      },
      "source": [
        "data_preprocessing('RELIANCE.NS')"
      ],
      "execution_count": 28,
      "outputs": [
        {
          "output_type": "execute_result",
          "data": {
            "text/plain": [
              "(array([[-1.12173966, -1.12795185, -1.10052068, ..., -1.17740636,\n",
              "         -1.58403883, -0.44221773],\n",
              "        [-1.1015159 , -1.11169093, -1.08015208, ..., -1.17740636,\n",
              "         -1.58403883, -0.09900397],\n",
              "        [-1.10816097, -1.14250111, -1.15400633, ..., -1.17740636,\n",
              "         -1.58403883,  0.01540062],\n",
              "        ...,\n",
              "        [ 2.67219868,  2.65008853,  2.73609728, ...,  1.32550779,\n",
              "          1.15772283, -0.44221773],\n",
              "        [ 2.65936638,  2.73648345,  2.73491417, ...,  1.32550779,\n",
              "          1.15772283, -0.32781315],\n",
              "        [ 2.80023259,  2.78904036,  2.86109407, ...,  1.32550779,\n",
              "          1.15772283, -0.21340856]]),\n",
              " array([[ 2.83260598,  2.74872273,  2.64364404, ...,  1.32550779,\n",
              "          1.15772283, -0.09900397],\n",
              "        [ 2.61386874,  2.58313247,  2.57752118, ...,  1.32550779,\n",
              "          1.15772283,  0.01540062],\n",
              "        [ 2.5411023 ,  2.57218898,  2.52574737, ...,  1.32550779,\n",
              "          1.15772283,  0.35861438],\n",
              "        ...,\n",
              "        [ 2.64449196,  2.59033205,  2.61213626, ...,  2.57696487,\n",
              "         -0.06083791,  0.24420979],\n",
              "        [ 2.58032903,  2.62632993,  2.65888004, ...,  2.57696487,\n",
              "         -0.06083791,  0.58742356],\n",
              "        [ 2.72761211,  2.66520764,  2.71568389, ...,  2.57696487,\n",
              "         -0.06083791,  0.70182814]]),\n",
              " 9      1\n",
              " 10     0\n",
              " 11     1\n",
              " 12     0\n",
              " 13     1\n",
              "       ..\n",
              " 680    0\n",
              " 681    1\n",
              " 682    1\n",
              " 683    1\n",
              " 684    0\n",
              " Name: Price_Rise, Length: 676, dtype: int64,\n",
              " 685    0\n",
              " 686    1\n",
              " 687    0\n",
              " 688    0\n",
              " 689    0\n",
              "       ..\n",
              " 849    1\n",
              " 850    1\n",
              " 851    1\n",
              " 852    0\n",
              " 853    0\n",
              " Name: Price_Rise, Length: 169, dtype: int64)"
            ]
          },
          "metadata": {
            "tags": []
          },
          "execution_count": 28
        }
      ]
    },
    {
      "cell_type": "code",
      "metadata": {
        "id": "shRBWzWsTuV8"
      },
      "source": [
        ""
      ],
      "execution_count": 28,
      "outputs": []
    },
    {
      "cell_type": "code",
      "metadata": {
        "colab": {
          "base_uri": "https://localhost:8080/",
          "height": 329
        },
        "id": "R6yttAi7Zhro",
        "outputId": "27424d2b-95d6-49f3-9870-ca93ceb6ed48"
      },
      "source": [
        "\n",
        "def svm_linear(ticker):\n",
        "  X_train, X_test, y_train, y_test = data_preprocessing(ticker)\n",
        "  clf = svm.SVC(kernel = 'linear')\n",
        "  clf.fit(X_train, y_train)\n",
        "  confidence = clf.score(X_test, y_test)\n",
        "  print('accuracy:',confidence)\n",
        "  predictions = clf.predict(X_test)\n",
        "  print('predicted class counts:',Counter(predictions))\n",
        "\n",
        "\n",
        "  plt.plot(X_test[:,1], y_test, color = 'magenta')\n",
        "  plt.plot(X_test[:,1], predictions, color = 'green')\n",
        "  plt.title('SVM MODEL - LUSIP')\n",
        "  plt.xlabel('X')\n",
        "  plt.ylabel('Y')\n",
        "  plt.show()\n",
        "\n",
        "svm_linear('RELIANCE.NS')\n"
      ],
      "execution_count": 29,
      "outputs": [
        {
          "output_type": "stream",
          "text": [
            "accuracy: 0.4970414201183432\n",
            "predicted class counts: Counter({0: 114, 1: 55})\n"
          ],
          "name": "stdout"
        },
        {
          "output_type": "display_data",
          "data": {
            "image/png": "[encoded data removed]",
            "text/plain": [
              "<Figure size 432x288 with 1 Axes>"
            ]
          },
          "metadata": {
            "tags": [],
            "needs_background": "light"
          }
        }
      ]
    },
    {
      "cell_type": "code",
      "metadata": {
        "colab": {
          "base_uri": "https://localhost:8080/"
        },
        "id": "H7uGIS4GZx_e",
        "outputId": "4296b5b3-a8a2-4594-80c4-c8b903ec6a03"
      },
      "source": [
        "def svm_poly(ticker):\n",
        "    X_train, X_test, y_train, y_test = data_preprocessing(ticker)\n",
        "    clf = svm.SVC(kernel = 'poly')\n",
        "    clf.fit(X_train, y_train)\n",
        "    confidence = clf.score(X_test, y_test)\n",
        "    print('accuracy:',confidence)\n",
        "    predictions = clf.predict(X_test)\n",
        "    print('predicted class counts:',Counter(predictions))\n",
        "    \n",
        "svm_poly('RELIANCE.NS')"
      ],
      "execution_count": 30,
      "outputs": [
        {
          "output_type": "stream",
          "text": [
            "accuracy: 0.46153846153846156\n",
            "predicted class counts: Counter({1: 89, 0: 80})\n"
          ],
          "name": "stdout"
        }
      ]
    },
    {
      "cell_type": "code",
      "metadata": {
        "id": "iZaDszclT9lR"
      },
      "source": [
        "from sklearn.model_selection import train_test_split\n",
        "def data_preprocessing_RF(ticker):\n",
        "    training_data = pd.read_csv('{}.csv'.format(ticker))\n",
        "    training_data = training_data.dropna()\n",
        "    training_data = training_data[['Open', 'High', 'Low', 'Date', 'Volume', 'Adj Close','Close']]\n",
        "\n",
        "    #training_data['H-L'] = training_data['High'] - training_data['Low']\n",
        "    #training_data['O-C'] = training_data['Close'] - training_data['Open']\n",
        "    \n",
        "    #training_data['ma_5'] = training_data['Close'].rolling(window=5).mean()\n",
        "    #training_data['ma_10'] = training_data['Close'].rolling(window=10).mean() \n",
        "    \n",
        "    #training_data['EWMA_12'] = training_data['Close'].ewm(span=12).mean() #Providing exponential weighted (EW) functions #Specify decay\n",
        "\n",
        "    #training_data['std_5'] = training_data['Close'].rolling(window=5).std()\n",
        "    #training_data['std_10'] = training_data['Close'].rolling(window=10).std()\n",
        "\n",
        "\n",
        "    training_data[[\"year\",\"month\", \"day\",]] = training_data[\"Date\"].str.split(\"-\", expand = True)\n",
        "    training_data = training_data.drop(['Date'], axis = 1)\n",
        "    training_data.day = training_data.day.astype('int64')\n",
        "    training_data.month = training_data.month.astype('int64')\n",
        "    training_data.year = training_data.year.astype('int64')\n",
        "\n",
        "    #training_data['Price_Rise'] = np.where(training_data['Close'].shift(-1) > training_data['Close'], 1, 0)\n",
        "    training_data = training_data.dropna()\n",
        "    target = training_data['Close']\n",
        "    training_data = training_data.drop(['Close'], axis = 1)\n",
        "    X = training_data\n",
        "    feature_list = list(training_data.columns) \n",
        "    X = np.array(X)\n",
        "    y = np.array(target)\n",
        "    X_train, X_test, y_train, y_test = train_test_split(X, y, test_size = 0.25, random_state = 42)\n",
        "\n",
        "\n",
        "    return training_data,target, X_train, X_test, y_train, y_test, feature_list\n"
      ],
      "execution_count": 31,
      "outputs": []
    },
    {
      "cell_type": "code",
      "metadata": {
        "id": "xcYY8Z4EwiL9",
        "colab": {
          "base_uri": "https://localhost:8080/",
          "height": 295
        },
        "outputId": "feaacb59-737d-4ff5-caef-5d5615ae9c65"
      },
      "source": [
        "features, labels, train_features, test_features, train_labels, test_labels,feature_list = data_preprocessing_RF('RELIANCE.NS')\n",
        "features.describe()"
      ],
      "execution_count": 32,
      "outputs": [
        {
          "output_type": "execute_result",
          "data": {
            "text/html": [
              "<div>\n",
              "<style scoped>\n",
              "    .dataframe tbody tr th:only-of-type {\n",
              "        vertical-align: middle;\n",
              "    }\n",
              "\n",
              "    .dataframe tbody tr th {\n",
              "        vertical-align: top;\n",
              "    }\n",
              "\n",
              "    .dataframe thead th {\n",
              "        text-align: right;\n",
              "    }\n",
              "</style>\n",
              "<table border=\"1\" class=\"dataframe\">\n",
              "  <thead>\n",
              "    <tr style=\"text-align: right;\">\n",
              "      <th></th>\n",
              "      <th>Open</th>\n",
              "      <th>High</th>\n",
              "      <th>Low</th>\n",
              "      <th>Volume</th>\n",
              "      <th>Adj Close</th>\n",
              "      <th>year</th>\n",
              "      <th>month</th>\n",
              "      <th>day</th>\n",
              "    </tr>\n",
              "  </thead>\n",
              "  <tbody>\n",
              "    <tr>\n",
              "      <th>count</th>\n",
              "      <td>854.000000</td>\n",
              "      <td>854.000000</td>\n",
              "      <td>854.000000</td>\n",
              "      <td>8.540000e+02</td>\n",
              "      <td>854.000000</td>\n",
              "      <td>854.000000</td>\n",
              "      <td>854.000000</td>\n",
              "      <td>854.000000</td>\n",
              "    </tr>\n",
              "    <tr>\n",
              "      <th>mean</th>\n",
              "      <td>1454.543159</td>\n",
              "      <td>1472.321206</td>\n",
              "      <td>1435.239215</td>\n",
              "      <td>1.151072e+07</td>\n",
              "      <td>1441.586626</td>\n",
              "      <td>2019.276347</td>\n",
              "      <td>6.074941</td>\n",
              "      <td>15.676815</td>\n",
              "    </tr>\n",
              "    <tr>\n",
              "      <th>std</th>\n",
              "      <td>421.262755</td>\n",
              "      <td>425.857282</td>\n",
              "      <td>415.029981</td>\n",
              "      <td>8.045175e+06</td>\n",
              "      <td>423.153104</td>\n",
              "      <td>1.024199</td>\n",
              "      <td>3.440195</td>\n",
              "      <td>8.749932</td>\n",
              "    </tr>\n",
              "    <tr>\n",
              "      <th>min</th>\n",
              "      <td>868.764954</td>\n",
              "      <td>887.437988</td>\n",
              "      <td>862.821289</td>\n",
              "      <td>1.296168e+06</td>\n",
              "      <td>858.272034</td>\n",
              "      <td>2018.000000</td>\n",
              "      <td>1.000000</td>\n",
              "      <td>1.000000</td>\n",
              "    </tr>\n",
              "    <tr>\n",
              "      <th>25%</th>\n",
              "      <td>1116.293610</td>\n",
              "      <td>1128.552460</td>\n",
              "      <td>1100.022858</td>\n",
              "      <td>6.539625e+06</td>\n",
              "      <td>1104.036438</td>\n",
              "      <td>2018.000000</td>\n",
              "      <td>3.000000</td>\n",
              "      <td>8.000000</td>\n",
              "    </tr>\n",
              "    <tr>\n",
              "      <th>50%</th>\n",
              "      <td>1324.445557</td>\n",
              "      <td>1341.137329</td>\n",
              "      <td>1308.595825</td>\n",
              "      <td>9.089370e+06</td>\n",
              "      <td>1305.252747</td>\n",
              "      <td>2019.000000</td>\n",
              "      <td>6.000000</td>\n",
              "      <td>16.000000</td>\n",
              "    </tr>\n",
              "    <tr>\n",
              "      <th>75%</th>\n",
              "      <td>1924.000000</td>\n",
              "      <td>1941.424957</td>\n",
              "      <td>1899.975006</td>\n",
              "      <td>1.375731e+07</td>\n",
              "      <td>1913.020966</td>\n",
              "      <td>2020.000000</td>\n",
              "      <td>9.000000</td>\n",
              "      <td>23.000000</td>\n",
              "    </tr>\n",
              "    <tr>\n",
              "      <th>max</th>\n",
              "      <td>2325.000000</td>\n",
              "      <td>2369.350098</td>\n",
              "      <td>2310.550049</td>\n",
              "      <td>6.584835e+07</td>\n",
              "      <td>2317.096191</td>\n",
              "      <td>2021.000000</td>\n",
              "      <td>12.000000</td>\n",
              "      <td>31.000000</td>\n",
              "    </tr>\n",
              "  </tbody>\n",
              "</table>\n",
              "</div>"
            ],
            "text/plain": [
              "              Open         High  ...       month         day\n",
              "count   854.000000   854.000000  ...  854.000000  854.000000\n",
              "mean   1454.543159  1472.321206  ...    6.074941   15.676815\n",
              "std     421.262755   425.857282  ...    3.440195    8.749932\n",
              "min     868.764954   887.437988  ...    1.000000    1.000000\n",
              "25%    1116.293610  1128.552460  ...    3.000000    8.000000\n",
              "50%    1324.445557  1341.137329  ...    6.000000   16.000000\n",
              "75%    1924.000000  1941.424957  ...    9.000000   23.000000\n",
              "max    2325.000000  2369.350098  ...   12.000000   31.000000\n",
              "\n",
              "[8 rows x 8 columns]"
            ]
          },
          "metadata": {
            "tags": []
          },
          "execution_count": 32
        }
      ]
    },
    {
      "cell_type": "markdown",
      "metadata": {
        "id": "-DHqZLq3SmpQ"
      },
      "source": [
        ""
      ]
    },
    {
      "cell_type": "code",
      "metadata": {
        "id": "mIbisivfxD9O"
      },
      "source": [
        ""
      ],
      "execution_count": 32,
      "outputs": []
    },
    {
      "cell_type": "code",
      "metadata": {
        "id": "FiGa_pOTQXjy"
      },
      "source": [
        "rf = RandomForestRegressor(n_estimators = 1000, random_state = 42)\n",
        "rf.fit(train_features, train_labels);"
      ],
      "execution_count": 33,
      "outputs": []
    },
    {
      "cell_type": "code",
      "metadata": {
        "colab": {
          "base_uri": "https://localhost:8080/"
        },
        "id": "gBXH5uOkQyXt",
        "outputId": "d1f29f4f-3070-4d4f-ee9c-973ba3c41165"
      },
      "source": [
        "predictions = rf.predict(test_features)\n",
        "errors = abs(predictions - test_labels)\n",
        "print('Mean Absolute Error:', round(np.mean(errors), 2), 'degrees.')"
      ],
      "execution_count": 34,
      "outputs": [
        {
          "output_type": "stream",
          "text": [
            "Mean Absolute Error: 2.59 degrees.\n"
          ],
          "name": "stdout"
        }
      ]
    },
    {
      "cell_type": "code",
      "metadata": {
        "colab": {
          "base_uri": "https://localhost:8080/"
        },
        "id": "VkD7cGYVQ7SX",
        "outputId": "bbdb7238-05ce-4e34-c4e7-b20bd1be6b81"
      },
      "source": [
        "mape = 100 * (errors / test_labels)\n",
        "accuracy = 100 - np.mean(mape)\n",
        "print('Accuracy:', round(accuracy, 2), '%.')"
      ],
      "execution_count": 35,
      "outputs": [
        {
          "output_type": "stream",
          "text": [
            "Accuracy: 99.8 %.\n"
          ],
          "name": "stdout"
        }
      ]
    },
    {
      "cell_type": "code",
      "metadata": {
        "colab": {
          "base_uri": "https://localhost:8080/"
        },
        "id": "hdPik8mnRp3w",
        "outputId": "e1674ece-abfe-487d-9d44-a30a0df7dc52"
      },
      "source": [
        "importances = list(rf.feature_importances_)\n",
        "feature_importances = [(feature, round(importance, 2)) for feature, importance in zip(feature_list, importances)]\n",
        "feature_importances = sorted(feature_importances, key = lambda x: x[1], reverse = True)\n",
        "[print('Variable: {:20} Importance: {}'.format(*pair)) for pair in feature_importances];"
      ],
      "execution_count": 36,
      "outputs": [
        {
          "output_type": "stream",
          "text": [
            "Variable: Adj Close            Importance: 0.41\n",
            "Variable: Low                  Importance: 0.26\n",
            "Variable: High                 Importance: 0.25\n",
            "Variable: Open                 Importance: 0.08\n",
            "Variable: Volume               Importance: 0.0\n",
            "Variable: year                 Importance: 0.0\n",
            "Variable: month                Importance: 0.0\n",
            "Variable: day                  Importance: 0.0\n"
          ],
          "name": "stdout"
        }
      ]
    },
    {
      "cell_type": "code",
      "metadata": {
        "colab": {
          "base_uri": "https://localhost:8080/"
        },
        "id": "nW4gtdgKSFoI",
        "outputId": "d6a0b2ad-b624-40e8-c4bb-1505cf7b4dcb"
      },
      "source": [
        "rf_most_important = RandomForestRegressor(n_estimators= 1000, random_state=42)\n",
        "important_indices = [feature_list.index('High'), feature_list.index('Adj Close'), feature_list.index('Low')]\n",
        "train_important = train_features[:, important_indices]\n",
        "test_important = test_features[:, important_indices]\n",
        "\n",
        "rf_most_important.fit(train_important, train_labels)\n",
        "\n",
        "predictions = rf_most_important.predict(test_important)\n",
        "errors = abs(predictions - test_labels)\n",
        "print('Mean Absolute Error:', round(np.mean(errors), 2), 'degrees.')\n",
        "mape = np.mean(100 * (errors / test_labels))\n",
        "accuracy = 100 - mape\n",
        "print('Accuracy:', round(accuracy, 2), '%.')"
      ],
      "execution_count": 37,
      "outputs": [
        {
          "output_type": "stream",
          "text": [
            "Mean Absolute Error: 2.41 degrees.\n",
            "Accuracy: 99.82 %.\n"
          ],
          "name": "stdout"
        }
      ]
    },
    {
      "cell_type": "code",
      "metadata": {
        "colab": {
          "base_uri": "https://localhost:8080/",
          "height": 326
        },
        "id": "ERNcBL1mTD5R",
        "outputId": "6de2e5ce-129d-4061-f76d-deef6635e3c5"
      },
      "source": [
        "import datetime\n",
        "#predictions\n",
        "months = features['month']\n",
        "days = features['day']\n",
        "years = features['year']\n",
        "dates = [str(int(year)) + '-' + str(int(month)) + '-' + str(int(day)) for year, month, day in zip(years, months, days)]\n",
        "dates = [datetime.datetime.strptime(date, '%Y-%m-%d') for date in dates]\n",
        "\n",
        "months = test_features[:, feature_list.index('month')]\n",
        "days = test_features[:, feature_list.index('day')]\n",
        "years = test_features[:, feature_list.index('year')]\n",
        "test_dates = [str(int(year)) + '-' + str(int(month)) + '-' + str(int(day)) for year, month, day in zip(years, months, days)]\n",
        "test_dates = [datetime.datetime.strptime(date, '%Y-%m-%d') for date in test_dates]\n",
        "predictions_data = pd.DataFrame(data = {'date': test_dates, 'prediction': predictions})\n",
        "true_data = pd.DataFrame(data = {'date': dates, 'actual': labels})\n",
        "\n",
        "\n",
        "plt.plot(true_data['date'], true_data['actual'], 'b-', label = 'actual')\n",
        "plt.plot(predictions_data['date'], predictions_data['prediction'], 'ro', label = 'prediction')\n",
        "plt.xticks(rotation = '60'); \n",
        "plt.legend()\n",
        "##main graph\n",
        "plt.xlabel('Date'); plt.ylabel('CLOSE '); plt.title('Actual and Predicted Values');"
      ],
      "execution_count": 38,
      "outputs": [
        {
          "output_type": "display_data",
          "data": {
            "image/png": "[encoded data removed]",
            "text/plain": [
              "<Figure size 432x288 with 1 Axes>"
            ]
          },
          "metadata": {
            "tags": [],
            "needs_background": "light"
          }
        }
      ]
    }
  ]
}